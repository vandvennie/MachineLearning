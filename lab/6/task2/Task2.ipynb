{
 "cells": [
  {
   "cell_type": "markdown",
   "id": "b984cf80-1d94-4356-bcf1-47fd1a7b78d2",
   "metadata": {},
   "source": [
    "## Abalone dataset\n",
    "### 1"
   ]
  },
  {
   "cell_type": "code",
   "execution_count": 12,
   "id": "22af2a26-1656-44bd-9df6-5e32ccc05f89",
   "metadata": {},
   "outputs": [
    {
     "name": "stdout",
     "output_type": "stream",
     "text": [
      "Environment setted.\n",
      "Data inputted.\n"
     ]
    }
   ],
   "source": [
    "import pandas as pd\n",
    "import numpy as np\n",
    "import matplotlib.pyplot as plt\n",
    "import seaborn as sns\n",
    "\n",
    "%matplotlib inline\n",
    "plt.rcParams['font.size'] = 12\n",
    "sns.set_style(\"whitegrid\")\n",
    "print(\"Environment setted.\")\n",
    "\n",
    "columns = ['Sex', 'length', 'Diameter', 'Height', 'Whole_weight', 'Shucked_weight', 'Viscera_weight', 'Shell_weight', 'Rings']\n",
    "df = pd.read_csv(\"abalone.data\", names=columns)\n",
    "print(\"Data inputted.\")\n",
    "df.head()\n",
    "\n",
    "# OHE\n",
    "df = pd.get_dummies(df, columns=['Sex'], prefix='Sex')"
   ]
  },
  {
   "cell_type": "code",
   "execution_count": 16,
   "id": "0ce627e4-09e8-4115-90a0-bdf88586d6f3",
   "metadata": {},
   "outputs": [
    {
     "name": "stdout",
     "output_type": "stream",
     "text": [
      "mse on training set 0.7027835977252319\n",
      "mse on test set 5.148325358851674\n"
     ]
    }
   ],
   "source": [
    "from sklearn.ensemble import  RandomForestRegressor\n",
    "from sklearn.model_selection import train_test_split\n",
    "from sklearn.metrics import mean_squared_error\n",
    "\n",
    "X = df.drop('Rings', axis=1)\n",
    "y = df['Rings']\n",
    "\n",
    "X_train, X_test, y_train, y_test = train_test_split(X, y, test_size=0.2, random_state=42)\n",
    "\n",
    "rf = RandomForestRegressor(\n",
    "    n_estimators=100,       \n",
    "    random_state=42)\n",
    "rf.fit(X_train, y_train)\n",
    "\n",
    "y_train_pred = rf.predict(X_train)\n",
    "y_test_pred = rf.predict(X_test)\n",
    "\n",
    "y_train_pred = np.round(y_train_pred).astype(int)\n",
    "y_test_pred = np.round(y_test_pred).astype(int)\n",
    "\n",
    "mse_train = mean_squared_error(y_train, y_train_pred)\n",
    "mse_test = mean_squared_error(y_test, y_test_pred)\n",
    "print('mse on training set',mse_train)\n",
    "print('mse on test set',mse_test)"
   ]
  },
  {
   "cell_type": "markdown",
   "id": "091b2d56-21b7-4762-9d0e-180b1c415935",
   "metadata": {},
   "source": [
    "### 2"
   ]
  },
  {
   "cell_type": "code",
   "execution_count": 17,
   "id": "f011f82b-9561-40ef-add7-0fadbe751a54",
   "metadata": {},
   "outputs": [
    {
     "name": "stdout",
     "output_type": "stream",
     "text": [
      "mse on training set 4.829392397485782\n",
      "mse on test set 5.526315789473684\n"
     ]
    }
   ],
   "source": [
    "rf = RandomForestRegressor(\n",
    "    n_estimators=100,        # 森林里树的棵数（越多越稳定）\n",
    "    max_depth=5,             # 每棵树的最大深度\n",
    "    min_samples_split=10,    # 内部分支的最小样本数\n",
    "    min_samples_leaf=5,      # 叶子节点最小样本数\n",
    "    max_features='sqrt',     # 每次分裂最多考虑特征数\n",
    "    random_state=42)\n",
    "rf.fit(X_train, y_train)\n",
    "\n",
    "y_train_pred = rf.predict(X_train)\n",
    "y_test_pred = rf.predict(X_test)\n",
    "\n",
    "y_train_pred = np.round(y_train_pred).astype(int)\n",
    "y_test_pred = np.round(y_test_pred).astype(int)\n",
    "\n",
    "mse_train = mean_squared_error(y_train, y_train_pred)\n",
    "mse_test = mean_squared_error(y_test, y_test_pred)\n",
    "print('mse on training set',mse_train)\n",
    "print('mse on test set',mse_test)"
   ]
  },
  {
   "cell_type": "markdown",
   "id": "62ed0282-7cee-40a4-8fd5-68500578dc68",
   "metadata": {},
   "source": [
    "### 3\n",
    "no change"
   ]
  },
  {
   "cell_type": "markdown",
   "id": "760416ce-322d-45ad-bc61-50f4d649a982",
   "metadata": {},
   "source": [
    "### 4\n",
    "用模型的特征重要性（feature importances）来筛选、精简特征。也就是选出最有用的几个变量"
   ]
  },
  {
   "cell_type": "code",
   "execution_count": 24,
   "id": "1e256a4f-f7da-4cdb-ac5c-291bb6a75bc2",
   "metadata": {},
   "outputs": [
    {
     "name": "stdout",
     "output_type": "stream",
     "text": [
      "Importance values are above 5%： Index(['Diameter', 'Height', 'Whole_weight', 'Shucked_weight',\n",
      "       'Viscera_weight', 'Shell_weight'],\n",
      "      dtype='object')\n",
      "total retained feature importance value： 0.9249544352499031\n"
     ]
    }
   ],
   "source": [
    "# 获取特征重要性\n",
    "importances = rf.feature_importances_\n",
    "feature_names = X_train.columns\n",
    "\n",
    "# 保留重要性大于5%\n",
    "threshold = 0.05\n",
    "important_mask = importances > threshold\n",
    "important_features = feature_names[important_mask]\n",
    "print(\"Importance values are above 5%：\", important_features)\n",
    "\n",
    "selected_importances = importances[importances > threshold]\n",
    "total_retained_importance = selected_importances.sum()\n",
    "print(\"total retained feature importance value：\", total_retained_importance)\n",
    "\n"
   ]
  },
  {
   "cell_type": "code",
   "execution_count": null,
   "id": "42cb62ae-b0ea-4326-ae20-50cefbef4184",
   "metadata": {},
   "outputs": [],
   "source": []
  }
 ],
 "metadata": {
  "kernelspec": {
   "display_name": "Python 3 (ipykernel)",
   "language": "python",
   "name": "python3"
  },
  "language_info": {
   "codemirror_mode": {
    "name": "ipython",
    "version": 3
   },
   "file_extension": ".py",
   "mimetype": "text/x-python",
   "name": "python",
   "nbconvert_exporter": "python",
   "pygments_lexer": "ipython3",
   "version": "3.10.16"
  }
 },
 "nbformat": 4,
 "nbformat_minor": 5
}
