{
 "cells": [
  {
   "cell_type": "markdown",
   "id": "84e7ae96-67ce-4bb9-8f61-f4f148abc08b",
   "metadata": {},
   "source": [
    "# Lab4"
   ]
  },
  {
   "cell_type": "markdown",
   "id": "d43b0d4a-c5d0-4569-9ba1-671df22a666c",
   "metadata": {},
   "source": [
    "## Data Preprocessing"
   ]
  },
  {
   "cell_type": "code",
   "execution_count": 2,
   "id": "41f37c2a-1860-4b08-b7fe-4742ef1cb612",
   "metadata": {},
   "outputs": [
    {
     "name": "stdout",
     "output_type": "stream",
     "text": [
      "Evironment Setup Complete\n",
      "\n",
      "Data Overview:\n",
      "Training set shape: (325, 10)\n",
      "Test set shape: (198, 10)\n",
      "\n",
      "Category distribution:\n",
      "Training set:\n",
      " class\n",
      "s    136\n",
      "d    105\n",
      "o     46\n",
      "h     38\n",
      "Name: count, dtype: int64\n",
      "Test set:\n",
      " class\n",
      "s    59\n",
      "d    54\n",
      "h    48\n",
      "o    37\n",
      "Name: count, dtype: int64\n",
      "   b1  b2  b3   b4  b5   b6   b7  b8  b9\n",
      "0  67  51  68  115  69  111  136  31  67\n",
      "1  67  28  51   99  50   97   82  26  59\n",
      "2  63  26  50   95  49   91   81  26  57\n",
      "3  63  42  63   97  66  108  111  28  59\n",
      "4  46  27  50   83  51   90   76  26  56\n"
     ]
    }
   ],
   "source": [
    "# Import necessary libraries\n",
    "import pandas as pd\n",
    "import numpy as np\n",
    "import matplotlib.pyplot as plt\n",
    "import seaborn as sns\n",
    "from sklearn.preprocessing import StandardScaler\n",
    "from sklearn.svm import SVC\n",
    "from sklearn.linear_model import LogisticRegression\n",
    "from sklearn.neighbors import KNeighborsClassifier\n",
    "from sklearn.model_selection import GridSearchCV\n",
    "from sklearn.metrics import (accuracy_score, \n",
    "                             confusion_matrix, \n",
    "                             ConfusionMatrixDisplay)\n",
    "%matplotlib inline\n",
    "#notebook 单元格内直接显示 Matplotlib 生成的图像\n",
    "\n",
    "plt.rcParams['font.size'] = 12\n",
    "sns.set_style(\"whitegrid\")\n",
    "print(\"Evironment Setup Complete\")\n",
    "\n",
    "\n",
    "train_raw = pd.read_csv('training.csv')\n",
    "test_raw = pd.read_csv('testing.csv')\n",
    "\n",
    "#use features b1-b9 and all classes in the “Forest type mapping data set”\n",
    "#def filter_classes(df):\n",
    "#    return df[df['class'].isin(['s','d'])].copy()#创建数据的独立副本，不影响原数据\n",
    "\n",
    "# Drop pred_minus_obs columns\n",
    "cols_to_drop = [c for c in train_raw.columns if c.startswith('pred_minus_obs')]\n",
    "train_df = train_raw.drop(columns = cols_to_drop)\n",
    "test_df = test_raw.drop(columns = cols_to_drop)\n",
    "\n",
    "\n",
    "#显示数据概览\n",
    "print(\"\\nData Overview:\")\n",
    "print(f\"Training set shape: {train_df.shape}\")#.shape 是一个 属性，它返回 (行数, 列数) 的 元组 (tuple)。\n",
    "print(f\"Test set shape: {test_df.shape}\")\n",
    "print(\"\\nCategory distribution:\")\n",
    "print(\"Training set:\\n\", train_df['class'].value_counts())\n",
    "print(\"Test set:\\n\", test_df['class'].value_counts())\n",
    "\n",
    "#分离特征和标签\n",
    "feature_cols = [f'b{i}' for i in range(1,10)]#创建一个包含 b1 到 b9 的特征名称列表\n",
    "X_train = train_df[feature_cols]\n",
    "y_train = train_df['class']\n",
    "X_test = test_df[feature_cols]\n",
    "y_test = test_df['class']\n",
    "\n",
    "print(X_train.head())\n",
    "\n",
    "#数据备份\n",
    "X_train_raw = X_train.copy()\n",
    "X_test_raw = X_test.copy()"
   ]
  },
  {
   "cell_type": "markdown",
   "id": "5979abc9-25f4-408b-b540-df8db01caffe",
   "metadata": {},
   "source": [
    "# The other way from the solution"
   ]
  },
  {
   "cell_type": "markdown",
   "id": "363a7a60-5c35-421f-9a04-fddf172cd8df",
   "metadata": {},
   "source": [
    "### Data preprocessing"
   ]
  },
  {
   "cell_type": "code",
   "execution_count": 20,
   "id": "f7523b62-0cdd-46a0-a1f8-c37674e7d0ec",
   "metadata": {},
   "outputs": [],
   "source": [
    "import pandas as pd\n",
    "import numpy as np\n",
    "\n",
    "df_train = pd.read_csv('training.csv')\n",
    "df_test = pd.read_csv('testing.csv')\n",
    "\n",
    "# function for cleaning data to get fearture b1-b9\n",
    "def clean_cols(df: pd.DataFrame) -> pd.DataFrame:\n",
    "    return df[['class'] + [f'b{i}' for i in range(1, 10)]]\n",
    "\n",
    "df_train = clean_cols(df_train)\n",
    "df_test = clean_cols(df_test)\n",
    "\n",
    "# Saperate the data to feature and target\n",
    "X_train, y_train = df_train[[f'b{i}' for i in range(1,10)]], df_train['class']\n",
    "X_test, y_test = df_test[[f'b{i}' for i in range(1,10)]], df_test['class']\n"
   ]
  },
  {
   "cell_type": "markdown",
   "id": "017de0dd-8241-431b-83bb-df1b86cd0bb1",
   "metadata": {},
   "source": [
    "## create a helper function\n",
    "From the lab sheet 4, ask to do the task 2-4 twice with and without the StandardScaler, so we make a function to cover task 2-4"
   ]
  },
  {
   "cell_type": "code",
   "execution_count": 21,
   "id": "6e7b4f8f-93f0-457e-a404-c58260a24f3a",
   "metadata": {},
   "outputs": [],
   "source": [
    "from sklearn.model_selection import StratifiedKFold\n",
    "from sklearn.metrics import ConfusionMatrixDisplay\n",
    "from sklearn.model_selection import GridSearchCV\n",
    "from sklearn.metrics import accuracy_score\n",
    "\n",
    "import matplotlib.pyplot as plt\n",
    "\n",
    "#built a functionn\n",
    "def helper_function(pipeline, param_grid):\n",
    "    model = GridSearchCV(\n",
    "        pipeline,\n",
    "        param_grid = param_grid,\n",
    "        cv = StratifiedKFold(n_splits = 3, shuffle = True, random_state = 42),\n",
    "        scoring = 'f1_weighted',\n",
    "        refit = True\n",
    "    )\n",
    "\n",
    "    model.fit(X_train, y_train)\n",
    "    \n",
    "    # To get the best parameter of the current model\n",
    "    print(f'optimal hyperparameter values: {model.best_params_}\\n')#f让字符串中可以插入变量。{}里的变量会被计算出其值\n",
    "\n",
    "    cv_df = pd.DataFrame({\n",
    "        'fold': range(1,4),\n",
    "        'Validation F1': [f'{model.cv_results_[f\"split{i}_test_score\"][model.best_index_]:.3f}' for i in range(3)]\n",
    "    })\n",
    "    #使用DataFrame的数据结构。类似一个具有行列的表格\n",
    "    #列 fold 范围是1-3.range（1，4），表从1开始，3结束，不包括4\n",
    "    #列 Validation F1 数据计算流程如下\n",
    "        #获取 model 中所有的交叉验证结果字典\n",
    "        #通过 split{i} 获取第i折的数据数组array\n",
    "        #通过 .best_index_ 获取最佳超参数组合对应的折索引，并从上面的array中获取这个索引对应的值。\n",
    "        #最后展示的为 一个数据表格\n",
    "        \n",
    "    print(cv_df.to_string(index=False)+'\\n')#打印出 cv_df DataFrame 的内容，并且不显示行索引\n",
    "\n",
    "    #计算准确率\n",
    "    train_accuracy = accuracy_score(y_train, model.predict(X_train))\n",
    "    test_accuracy = accuracy_score(y_test, model.predict(X_test))\n",
    "\n",
    "    print(f'Train accuracy: {train_accuracy:.3f}')\n",
    "    print(f'Test accuracy: {test_accuracy:.3f}')\n",
    "\n",
    "    #绘制confusion matrix\n",
    "    ConfusionMatrixDisplay.from_estimator( #自动调用 model 的 predict() 计算 y_pred\n",
    "        model,\n",
    "        X_test,\n",
    "        y_test,\n",
    "        display_labels=model.classes_, # 用来显示标签的名称，通常是模型的类别\n",
    "    )\n",
    "\n",
    "    plt.title('Test set')\n",
    "\n",
    "    return model"
   ]
  },
  {
   "cell_type": "markdown",
   "id": "e1b006b3-b7da-4082-a3f8-95865488f2dd",
   "metadata": {},
   "source": [
    "## Task 1-4  Scaled SCV 标准化\n",
    "Apply feature scaling using the StandardScaler"
   ]
  },
  {
   "cell_type": "code",
   "execution_count": 22,
   "id": "735de3b7-535a-4df3-b1f2-8ce80481c588",
   "metadata": {},
   "outputs": [
    {
     "name": "stdout",
     "output_type": "stream",
     "text": [
      "optimal hyperparameter values: {'svc__C': 100.0, 'svc__kernel': 'linear'}\n",
      "\n",
      " fold Validation F1\n",
      "    1         0.889\n",
      "    2         0.915\n",
      "    3         0.868\n",
      "\n",
      "Train accuracy: 0.908\n",
      "Test accuracy: 0.904\n"
     ]
    },
    {
     "data": {
      "image/png": "[encoded data removed]",
      "text/plain": [
       "<Figure size 640x480 with 2 Axes>"
      ]
     },
     "metadata": {},
     "output_type": "display_data"
    }
   ],
   "source": [
    "from sklearn.pipeline import make_pipeline\n",
    "from sklearn.svm import SVC\n",
    "from sklearn.preprocessing import MinMaxScaler\n",
    "\n",
    "#标准化（StandardScaler）：适用于大多数机器学习模型，特别是当数据服从正态分布时更合适。\n",
    "#归一化（Min-Max）：适用于深度学习或需要确保数据在相同范围的模型（如 SVM支持向量机）。\n",
    "\n",
    "model_svc_scaled = helper_function(\n",
    "    make_pipeline(MinMaxScaler(), SVC(decision_function_shape='ovo', random_state=42)),\n",
    "    {\n",
    "        'svc__C': np.logspace(-3, 3, 7),#这里是双下划线\n",
    "        'svc__kernel': ['linear', 'rbf', 'poly', 'sigmoid']\n",
    "    }\n",
    ")\n",
    "\n"
   ]
  },
  {
   "cell_type": "markdown",
   "id": "20aa211a-22d2-4b37-840f-1ee3c9f8b1b6",
   "metadata": {},
   "source": [
    "### Task 5 without doing feature scaling"
   ]
  },
  {
   "cell_type": "code",
   "execution_count": 25,
   "id": "ff42a6e6-b02c-4436-98ad-47a3a7a5b4dc",
   "metadata": {},
   "outputs": [
    {
     "name": "stdout",
     "output_type": "stream",
     "text": [
      "optimal hyperparameter values: {'svc__C': 0.01, 'svc__kernel': 'linear'}\n",
      "\n",
      " fold Validation F1\n",
      "    1         0.880\n",
      "    2         0.925\n",
      "    3         0.859\n",
      "\n",
      "Train accuracy: 0.905\n",
      "Test accuracy: 0.904\n"
     ]
    },
    {
     "data": {
      "image/png": "[encoded data removed]",
      "text/plain": [
       "<Figure size 640x480 with 2 Axes>"
      ]
     },
     "metadata": {},
     "output_type": "display_data"
    }
   ],
   "source": [
    "model_svc_unscaled = helper_function(\n",
    "    make_pipeline(SVC(decision_function_shape='ovo', random_state=42)),\n",
    "    {\n",
    "        'svc__C': np.logspace(-3, 3, 7),#这里是双下划线\n",
    "        'svc__kernel': ['linear', 'rbf', 'poly', 'sigmoid']\n",
    "    }\n",
    ")"
   ]
  },
  {
   "cell_type": "markdown",
   "id": "ae3713a1-e4aa-4dbd-a4bb-673c87d6ca07",
   "metadata": {},
   "source": [
    "### Task 6"
   ]
  },
  {
   "cell_type": "markdown",
   "id": "b1e2dcfd-3780-43af-9da9-5695276c8cf4",
   "metadata": {},
   "source": [
    "- SVMs are sensitive to feature scaling, but b1 , ..., b9 are on similar scales already\n",
    "- 支持向量机对特征缩放很敏感，但是b1，…, b9已经达到了类似的规模\n",
    "- The quadratic programming problem is much faster to solve after scaling\n",
    "- 缩放后的二次规划问题求解速度更快\n",
    "- In this case we can skip feature scaling if we're careful, but it certainly doesn't hurt to do it.\n",
    "- 在这种情况下，如果我们小心的话，我们可以跳过特征缩放，但这样做肯定不会有什么坏处。"
   ]
  },
  {
   "cell_type": "code",
   "execution_count": null,
   "id": "e4628fa4-48f0-463d-adbd-9be7e4173e6d",
   "metadata": {},
   "outputs": [],
   "source": []
  }
 ],
 "metadata": {
  "kernelspec": {
   "display_name": "Python 3 (ipykernel)",
   "language": "python",
   "name": "python3"
  },
  "language_info": {
   "codemirror_mode": {
    "name": "ipython",
    "version": 3
   },
   "file_extension": ".py",
   "mimetype": "text/x-python",
   "name": "python",
   "nbconvert_exporter": "python",
   "pygments_lexer": "ipython3",
   "version": "3.10.16"
  }
 },
 "nbformat": 4,
 "nbformat_minor": 5
}
